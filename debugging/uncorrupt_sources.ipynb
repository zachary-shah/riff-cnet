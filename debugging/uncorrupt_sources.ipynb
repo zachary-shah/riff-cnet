{
 "cells": [
  {
   "attachments": {},
   "cell_type": "markdown",
   "metadata": {},
   "source": [
    "## Script to fix issue with image logging during training providing corrupted source images. \n",
    "\n",
    "Navigate through train-data to find and match the correct source to the corrupted logged images"
   ]
  },
  {
   "cell_type": "code",
   "execution_count": 1,
   "metadata": {},
   "outputs": [],
   "source": [
    "import os, json, sys\n",
    "sys.path.append(\"../\")\n",
    "import numpy as np\n",
    "import cv2\n",
    "from tqdm import tqdm "
   ]
  },
  {
   "cell_type": "code",
   "execution_count": 6,
   "metadata": {},
   "outputs": [
    {
     "name": "stderr",
     "output_type": "stream",
     "text": [
      "100%|██████████| 165/165 [1:37:56<00:00, 35.62s/it]"
     ]
    },
    {
     "name": "stdout",
     "output_type": "stream",
     "text": [
      "All uncorrupted images saved.\n"
     ]
    },
    {
     "name": "stderr",
     "output_type": "stream",
     "text": [
      "\n"
     ]
    }
   ],
   "source": [
    "# where we will save all uncorrupted sources found\n",
    "uncorr_dir = \"../image_log/uncorr\"\n",
    "os.makedirs(uncorr_dir,exist_ok=True)\n",
    "\n",
    "# get paths to all corrupted sources in image_log\n",
    "image_log_files = os.listdir(\"../image_log\")\n",
    "source_corr_paths_mask = [image_log_files[i].startswith(\"control\") for i in range(len(image_log_files))]\n",
    "source_corr_paths = np.array(image_log_files)[source_corr_paths_mask]\n",
    "\n",
    "# get all paths to training targets\n",
    "train_target_paths = np.array(os.listdir(\"../train-data/target\"))\n",
    "\n",
    "# for keeping track of files to match\n",
    "match_table = {}\n",
    "\n",
    "for k in tqdm(range(len(source_corr_paths))):\n",
    "\n",
    "    try:\n",
    "        source_corr_path = source_corr_paths[k]\n",
    "\n",
    "        # where we will save uncorrupted image to\n",
    "        source_uncorr_path = os.path.join(uncorr_dir, source_corr_path)\n",
    "\n",
    "        # target corresponding to corrupted source\n",
    "        target_path = os.path.join(\"../image_log\", source_corr_path.replace(\"control\",\"reconstruction\"))\n",
    "        # load target as vector\n",
    "        target = np.array(cv2.cvtColor(cv2.imread(target_path), code=cv2.COLOR_BGR2RGB).ravel(), dtype=float)\n",
    "\n",
    "        # keep track of best match in train targets\n",
    "        best_match_i = -1\n",
    "        best_association = np.inf\n",
    "        for (i,train_target_path) in enumerate(train_target_paths):\n",
    "\n",
    "            # get training target full path\n",
    "            train_target_path = os.path.join(\"../train-data/target\", train_target_path)\n",
    "            train_target = np.array(cv2.cvtColor(cv2.imread(train_target_path), code=cv2.COLOR_BGR2RGB).ravel(), dtype=float)\n",
    "\n",
    "            association = np.linalg.norm(target - train_target, 1)\n",
    "            if association < best_association:\n",
    "                best_match_i = i\n",
    "                best_association = association\n",
    "\n",
    "        # read and save best matching uncorruted source\n",
    "        best_match_path = os.path.join(\"../train-data/source\", train_target_paths[best_match_i])\n",
    "        best_match = cv2.cvtColor(cv2.imread(best_match_path), code=cv2.COLOR_BGR2RGB)\n",
    "        cv2.imwrite(source_uncorr_path, best_match)\n",
    "\n",
    "        # save corresponding target\n",
    "        best_match_target_path = os.path.join(\"../train-data/target\", train_target_paths[best_match_i])\n",
    "        best_match_target_name = os.path.join(uncorr_dir, source_corr_path.replace(\"control\",\"reconstruction\"))\n",
    "        cv2.imwrite(best_match_target_name, cv2.cvtColor(cv2.imread(best_match_target_path), code=cv2.COLOR_BGR2RGB))\n",
    "\n",
    "        # update match table\n",
    "        match_table[source_corr_path] = best_match_path\n",
    "        \n",
    "    except:\n",
    "        print(f\"Problem for {source_corr_paths[k]}\")\n",
    "\n",
    "# save corrleation match table\n",
    "with open(\"../image_log/uncorr/corruption_match_table.json\", \"w\") as outfile:\n",
    "    json.dump(match_table, outfile)\n",
    "\n",
    "print(\"All uncorrupted images saved.\")\n"
   ]
  }
 ],
 "metadata": {
  "kernelspec": {
   "display_name": "mel-gen",
   "language": "python",
   "name": "python3"
  },
  "language_info": {
   "codemirror_mode": {
    "name": "ipython",
    "version": 3
   },
   "file_extension": ".py",
   "mimetype": "text/x-python",
   "name": "python",
   "nbconvert_exporter": "python",
   "pygments_lexer": "ipython3",
   "version": "3.8.16"
  },
  "orig_nbformat": 4
 },
 "nbformat": 4,
 "nbformat_minor": 2
}
