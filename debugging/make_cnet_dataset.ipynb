{
 "cells": [
  {
   "attachments": {},
   "cell_type": "markdown",
   "metadata": {},
   "source": [
    "building cnet dataset from notebook for debugging"
   ]
  },
  {
   "cell_type": "code",
   "execution_count": 3,
   "metadata": {},
   "outputs": [],
   "source": [
    "import matplotlib.pyplot as plt\n",
    "import numpy as np\n",
    "import os, json, sys\n",
    "sys.path.append(\"../\")\n",
    "from cnet_riff_dataset import CnetRiffDataset\n",
    "from cnet_riff_preprocessing import preprocess_batch"
   ]
  },
  {
   "cell_type": "code",
   "execution_count": null,
   "metadata": {
    "scrolled": false
   },
   "outputs": [],
   "source": [
    "# parameters\n",
    "\n",
    "# names of files to segment\n",
    "audio_files = ['pop.00000.wav', 'pop.00010.wav']\n",
    "# folder where raw audio files are located in\n",
    "audio_files_dir = \"../raw-audio/\"\n",
    "# where to output everything to\n",
    "dataset_dir = \"../train-data\"\n",
    "prompt_file_path = \"../prompt_labels.json\"\n",
    "\n",
    "preprocess_batch(audio_files = audio_files,\n",
    "                 audio_files_dir = audio_files_dir,\n",
    "                 output_dir = dataset_dir,\n",
    "                 prompt_file_path = prompt_file_path,\n",
    "                 fs=44100,\n",
    "                 verbose=False,\n",
    "                 save_wav=False)\n"
   ]
  },
  {
   "cell_type": "code",
   "execution_count": null,
   "metadata": {
    "scrolled": true
   },
   "outputs": [],
   "source": [
    "# collect all training data into training object\n",
    "train_dataset = CnetRiffDataset(dataset_dir)\n",
    "\n",
    "# show sample contents if desired\n",
    "print(\"Sample contents of dataset\")\n",
    "item = train_dataset[0];\n",
    "plt.imshow((item['jpg'] + 1) / 2)\n",
    "plt.title(\"Target spectrogram\")\n",
    "plt.show()\n",
    "plt.figure()\n",
    "plt.imshow(item['hint'])\n",
    "plt.title(\"Source (canny edges)\")\n",
    "plt.show()\n",
    "print(\"prompt:\", item['txt'])\n",
    "print(\"image shape: \", item['hint'].shape)"
   ]
  }
 ],
 "metadata": {
  "kernelspec": {
   "display_name": "Python 3 (ipykernel)",
   "language": "python",
   "name": "python3"
  },
  "language_info": {
   "codemirror_mode": {
    "name": "ipython",
    "version": 3
   },
   "file_extension": ".py",
   "mimetype": "text/x-python",
   "name": "python",
   "nbconvert_exporter": "python",
   "pygments_lexer": "ipython3",
   "version": "3.8.16"
  },
  "vscode": {
   "interpreter": {
    "hash": "aee8b7b246df8f9039afb4144a1f6fd8d2ca17a180786b69acc140d282b71a49"
   }
  }
 },
 "nbformat": 4,
 "nbformat_minor": 4
}
