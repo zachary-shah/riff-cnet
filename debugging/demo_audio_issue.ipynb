{
 "cells": [
  {
   "cell_type": "code",
   "execution_count": 1,
   "metadata": {},
   "outputs": [
    {
     "name": "stderr",
     "output_type": "stream",
     "text": [
      "/Users/zachary/miniconda3/envs/mel-gen/lib/python3.8/site-packages/tqdm/auto.py:21: TqdmWarning: IProgress not found. Please update jupyter and ipywidgets. See https://ipywidgets.readthedocs.io/en/stable/user_install.html\n",
      "  from .autonotebook import tqdm as notebook_tqdm\n"
     ]
    }
   ],
   "source": [
    "import logging\n",
    "import os\n",
    "import sys\n",
    "from spleeter.separator import Separator\n",
    "from spleeter.audio.adapter import AudioAdapter\n",
    "import soundfile as sf\n",
    "import numpy as np\n",
    "import librosa\n",
    "from PIL import Image, ImageOps\n",
    "from pathlib import Path\n",
    "import pydub\n",
    "\n",
    "from scipy.io.wavfile import read\n",
    "\n",
    "from utils import spleeter_utils\n",
    "\n",
    "import cv2\n",
    "\n",
    "from riffusion.spectrogram_image_converter import SpectrogramImageConverter\n",
    "from riffusion.spectrogram_converter import SpectrogramConverter\n",
    "from riffusion.spectrogram_params import SpectrogramParams\n",
    "\n",
    "#sample_audio_path = \"pop.00027_seg4_full.wav\""
   ]
  },
  {
   "cell_type": "code",
   "execution_count": 81,
   "metadata": {},
   "outputs": [],
   "source": [
    "img_converter = SpectrogramImageConverter(SpectrogramParams(sample_rate=44100, min_frequency=0, max_frequency=10000))"
   ]
  },
  {
   "cell_type": "code",
   "execution_count": 82,
   "metadata": {},
   "outputs": [
    {
     "name": "stdout",
     "output_type": "stream",
     "text": [
      "(225351, 1)\n",
      "(225351, 1)\n",
      "225351\n",
      "4\n"
     ]
    }
   ],
   "source": [
    "audio_loader = AudioAdapter.default()\n",
    "waveform, _ = audio_loader.load(sample_audio_path, sample_rate=44100)\n",
    "# print(waveform, type(waveform))\n",
    "print(np.shape(np.int64(waveform / (np.max(np.abs(waveform))) * (2**15-1))))\n",
    "print(np.shape(waveform))\n",
    "byte_count = (np.int8(waveform / (np.max(np.abs(waveform))) * (2**15-1))).copy().tobytes()\n",
    "print(len(byte_count))\n",
    "print(waveform.dtype.itemsize)\n",
    "waveform =  np.int16(waveform / (np.max(np.abs(waveform))) * (2**15-1))\n",
    "song = pydub.AudioSegment(\n",
    "    waveform.tobytes(),\n",
    "    frame_rate=44100,\n",
    "    sample_width=waveform.dtype.itemsize, \n",
    "    channels=1\n",
    ")\n",
    "\n",
    "# song = pydub.AudioSegment.from_file(sample_audio_path, sr=44100)\n",
    "\n",
    "out_img = img_converter.spectrogram_image_from_audio(song)\n",
    "out_img.save(\"temp_spec.jpg\", exif=out_img.getexif())"
   ]
  },
  {
   "cell_type": "code",
   "execution_count": 4,
   "metadata": {},
   "outputs": [
    {
     "data": {
      "text/plain": [
       "<_io.BufferedRandom name='temp_wav_good_edges.wav'>"
      ]
     },
     "execution_count": 4,
     "metadata": {},
     "output_type": "execute_result"
    }
   ],
   "source": [
    "recon_filepath = \"train-150l200h/source/pop.00027_seg4.jpg\"\n",
    "\n",
    "recon_img =  Image.open(recon_filepath).convert(\"RGB\")\n",
    "\n",
    "img_converter_to_audio = SpectrogramImageConverter(SpectrogramParams(sample_rate=44100, min_frequency=0, max_frequency=10000))\n",
    "\n",
    "out_audio_recon = img_converter_to_audio.audio_from_spectrogram_image(recon_img, apply_filters=True).set_channels(2)\n",
    "out_audio_recon.export(\"temp_wav_good_edges.wav\", format=\"wav\")"
   ]
  },
  {
   "cell_type": "code",
   "execution_count": 1,
   "metadata": {},
   "outputs": [],
   "source": [
    "# from utils import spleeter_utils\n",
    "# sample_audio_path = \"raw-audio/blues.00000.wav\"\n",
    "# info = spleeter_utils.separate_audio(sample_audio_path, fs=44100)"
   ]
  },
  {
   "cell_type": "code",
   "execution_count": null,
   "metadata": {},
   "outputs": [],
   "source": [
    "# write_wav_file(accompaniment_audio, os.path.join(full_clip_dir, f'{audio_filename}_seg_test_bgnd.wav'), fs=fs,  verbose=verbose)\n",
    "# write_wav_file(vocal_audio, os.path.join(full_clip_dir, f'{audio_filename}_seg_test_voc.wav'), fs=fs,  verbose=verbose)\n",
    "# write_wav_file(full_audio, os.path.join(full_clip_dir, f'{audio_filename}_seg_test_full.wav'), fs=fs,  verbose=verbose)"
   ]
  }
 ],
 "metadata": {
  "kernelspec": {
   "display_name": "Python 3",
   "language": "python",
   "name": "python3"
  },
  "language_info": {
   "codemirror_mode": {
    "name": "ipython",
    "version": 3
   },
   "file_extension": ".py",
   "mimetype": "text/x-python",
   "name": "python",
   "nbconvert_exporter": "python",
   "pygments_lexer": "ipython3",
   "version": "3.8.16"
  },
  "orig_nbformat": 4
 },
 "nbformat": 4,
 "nbformat_minor": 2
}
