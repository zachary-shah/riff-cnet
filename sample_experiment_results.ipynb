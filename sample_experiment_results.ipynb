{
 "cells": [
  {
   "cell_type": "code",
   "execution_count": 10,
   "metadata": {},
   "outputs": [],
   "source": [
    "import matplotlib.pyplot as plt\n",
    "import numpy as np\n",
    "import cv2\n",
    "from PIL import Image\n",
    "import pydub\n",
    "from pydub.playback import play\n",
    "import os\n",
    "import IPython\n"
   ]
  },
  {
   "cell_type": "code",
   "execution_count": null,
   "metadata": {},
   "outputs": [],
   "source": [
    "# make function to display all audios and specgrams\n",
    "def get_audios(root, prompt):\n",
    "    control_methods = [\"canny\", \"fullspec\", \"sobel\", \"sobeldenoise\"]\n",
    "\n",
    "    print(f\"Prompt: {prompt}\")\n",
    "        print(\"Target audio: \")\n",
    "        IPython.display.display(IPython.display.Audio(os.path.join(root, \"fullspec\", prompt+\"_target.wav\")))\n",
    "        print(\"Original source audio: \")\n",
    "        IPython.display.display(IPython.display.Audio(os.path.join(root, \"fullspec\", prompt+\"_source.wav\")))\n",
    "\n",
    "        for control_method in control_methods: \n",
    "            folder = os.path.join(root, control_method)\n",
    "\n",
    "            print(f\"{control_method} Sample 0: \")\n",
    "            IPython.display.display(IPython.display.Audio(os.path.join(folder, prompt+\"_samp_0.wav\")))\n",
    "            print(f\"{control_method} Sample 1: \")\n",
    "            IPython.display.display(IPython.display.Audio(os.path.join(folder, prompt+\"_samp_1.wav\")))\n",
    "\n",
    "    print(\"\\n\\n\\n\")"
   ]
  },
  {
   "cell_type": "code",
   "execution_count": 23,
   "metadata": {},
   "outputs": [],
   "source": [
    "root = \"../experiment_samples/\"\n",
    "\n",
    "prompt = \"Generate a Grand Piano.\"\n",
    "\n",
    "files = os.listdir(root+\"/canny\")\n",
    "prompts = set([file.split(\"_\")[0] for file in files])\n",
    "\n",
    "for prompt in prompts:\n",
    "\n",
    "    get_audios(root, prompt)"
   ]
  },
  {
   "cell_type": "code",
   "execution_count": null,
   "metadata": {},
   "outputs": [],
   "source": []
  }
 ],
 "metadata": {
  "kernelspec": {
   "display_name": "mel-gen",
   "language": "python",
   "name": "python3"
  },
  "language_info": {
   "codemirror_mode": {
    "name": "ipython",
    "version": 3
   },
   "file_extension": ".py",
   "mimetype": "text/x-python",
   "name": "python",
   "nbconvert_exporter": "python",
   "pygments_lexer": "ipython3",
   "version": "3.8.16"
  },
  "orig_nbformat": 4
 },
 "nbformat": 4,
 "nbformat_minor": 2
}
